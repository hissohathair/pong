{
 "cells": [
  {
   "cell_type": "code",
   "execution_count": 4,
   "id": "c2b55520-2eb0-4f90-852b-bc0f3d650655",
   "metadata": {},
   "outputs": [],
   "source": [
    "import pandas as pd\n",
    "import json"
   ]
  },
  {
   "cell_type": "code",
   "execution_count": 92,
   "id": "92dda522-0197-4e5e-8dfe-7608581be03b",
   "metadata": {},
   "outputs": [],
   "source": [
    "TEST_DATA = '../test/test_data2.json'\n",
    "with open(TEST_DATA,'r') as f:\n",
    "    raw_data = json.loads(f.read())"
   ]
  },
  {
   "cell_type": "markdown",
   "id": "687bddde-e371-4db4-aa78-0a94e2774ba8",
   "metadata": {},
   "source": [
    "# Points"
   ]
  },
  {
   "cell_type": "code",
   "execution_count": 93,
   "id": "83986738-ea32-4851-a990-219326d738b1",
   "metadata": {},
   "outputs": [
    {
     "name": "stdout",
     "output_type": "stream",
     "text": [
      "Extracted 402 rows from 505 total\n"
     ]
    }
   ],
   "source": [
    "sample_data = [x for x in raw_data if x['event'] == 'point']\n",
    "print(f\"Extracted {len(sample_data)} rows from {len(raw_data)} total\")"
   ]
  },
  {
   "cell_type": "code",
   "execution_count": 94,
   "id": "f39f97fd-6737-4cb8-87e4-ea27d468408d",
   "metadata": {
    "tags": []
   },
   "outputs": [
    {
     "data": {
      "text/html": [
       "<div>\n",
       "<style scoped>\n",
       "    .dataframe tbody tr th:only-of-type {\n",
       "        vertical-align: middle;\n",
       "    }\n",
       "\n",
       "    .dataframe tbody tr th {\n",
       "        vertical-align: top;\n",
       "    }\n",
       "\n",
       "    .dataframe thead th {\n",
       "        text-align: right;\n",
       "    }\n",
       "</style>\n",
       "<table border=\"1\" class=\"dataframe\">\n",
       "  <thead>\n",
       "    <tr style=\"text-align: right;\">\n",
       "      <th></th>\n",
       "      <th>event</th>\n",
       "      <th>p</th>\n",
       "      <th>name</th>\n",
       "      <th>against</th>\n",
       "      <th>server</th>\n",
       "    </tr>\n",
       "  </thead>\n",
       "  <tbody>\n",
       "    <tr>\n",
       "      <th>0</th>\n",
       "      <td>point</td>\n",
       "      <td>2</td>\n",
       "      <td>PlayerV1</td>\n",
       "      <td>PlayerV1</td>\n",
       "      <td>NaN</td>\n",
       "    </tr>\n",
       "    <tr>\n",
       "      <th>1</th>\n",
       "      <td>point</td>\n",
       "      <td>1</td>\n",
       "      <td>PlayerV1</td>\n",
       "      <td>PlayerV1</td>\n",
       "      <td>NaN</td>\n",
       "    </tr>\n",
       "    <tr>\n",
       "      <th>2</th>\n",
       "      <td>point</td>\n",
       "      <td>2</td>\n",
       "      <td>PlayerV1</td>\n",
       "      <td>PlayerV1</td>\n",
       "      <td>NaN</td>\n",
       "    </tr>\n",
       "    <tr>\n",
       "      <th>3</th>\n",
       "      <td>point</td>\n",
       "      <td>2</td>\n",
       "      <td>PlayerV1</td>\n",
       "      <td>PlayerV1</td>\n",
       "      <td>NaN</td>\n",
       "    </tr>\n",
       "    <tr>\n",
       "      <th>4</th>\n",
       "      <td>point</td>\n",
       "      <td>2</td>\n",
       "      <td>PlayerV1</td>\n",
       "      <td>PlayerV1</td>\n",
       "      <td>NaN</td>\n",
       "    </tr>\n",
       "    <tr>\n",
       "      <th>...</th>\n",
       "      <td>...</td>\n",
       "      <td>...</td>\n",
       "      <td>...</td>\n",
       "      <td>...</td>\n",
       "      <td>...</td>\n",
       "    </tr>\n",
       "    <tr>\n",
       "      <th>397</th>\n",
       "      <td>point</td>\n",
       "      <td>2</td>\n",
       "      <td>PlayerV4</td>\n",
       "      <td>PlayerV4</td>\n",
       "      <td>1.0</td>\n",
       "    </tr>\n",
       "    <tr>\n",
       "      <th>398</th>\n",
       "      <td>point</td>\n",
       "      <td>2</td>\n",
       "      <td>PlayerV4</td>\n",
       "      <td>PlayerV4</td>\n",
       "      <td>1.0</td>\n",
       "    </tr>\n",
       "    <tr>\n",
       "      <th>399</th>\n",
       "      <td>point</td>\n",
       "      <td>2</td>\n",
       "      <td>PlayerV4</td>\n",
       "      <td>PlayerV4</td>\n",
       "      <td>1.0</td>\n",
       "    </tr>\n",
       "    <tr>\n",
       "      <th>400</th>\n",
       "      <td>point</td>\n",
       "      <td>1</td>\n",
       "      <td>PlayerV4</td>\n",
       "      <td>PlayerV4</td>\n",
       "      <td>1.0</td>\n",
       "    </tr>\n",
       "    <tr>\n",
       "      <th>401</th>\n",
       "      <td>point</td>\n",
       "      <td>2</td>\n",
       "      <td>PlayerV4</td>\n",
       "      <td>PlayerV4</td>\n",
       "      <td>2.0</td>\n",
       "    </tr>\n",
       "  </tbody>\n",
       "</table>\n",
       "<p>402 rows × 5 columns</p>\n",
       "</div>"
      ],
      "text/plain": [
       "     event  p      name   against  server\n",
       "0    point  2  PlayerV1  PlayerV1     NaN\n",
       "1    point  1  PlayerV1  PlayerV1     NaN\n",
       "2    point  2  PlayerV1  PlayerV1     NaN\n",
       "3    point  2  PlayerV1  PlayerV1     NaN\n",
       "4    point  2  PlayerV1  PlayerV1     NaN\n",
       "..     ... ..       ...       ...     ...\n",
       "397  point  2  PlayerV4  PlayerV4     1.0\n",
       "398  point  2  PlayerV4  PlayerV4     1.0\n",
       "399  point  2  PlayerV4  PlayerV4     1.0\n",
       "400  point  1  PlayerV4  PlayerV4     1.0\n",
       "401  point  2  PlayerV4  PlayerV4     2.0\n",
       "\n",
       "[402 rows x 5 columns]"
      ]
     },
     "execution_count": 94,
     "metadata": {},
     "output_type": "execute_result"
    }
   ],
   "source": [
    "df = pd.json_normalize(sample_data)\n",
    "df"
   ]
  },
  {
   "cell_type": "markdown",
   "id": "54d20ebe-39d9-4333-bb47-883a59bea041",
   "metadata": {},
   "source": [
    "## Player 1 vs Player 2 Points"
   ]
  },
  {
   "cell_type": "code",
   "execution_count": 95,
   "id": "71ca461b-7dcb-4d12-bd4e-a63c7d81d3d7",
   "metadata": {},
   "outputs": [
    {
     "data": {
      "text/plain": [
       "p  p\n",
       "1  1    174\n",
       "2  2    228\n",
       "Name: p, dtype: int64"
      ]
     },
     "execution_count": 95,
     "metadata": {},
     "output_type": "execute_result"
    }
   ],
   "source": [
    "df.groupby('p')['p'].value_counts()"
   ]
  },
  {
   "cell_type": "code",
   "execution_count": 96,
   "id": "18239d0c-5c86-444b-8fc7-f322f813d43b",
   "metadata": {},
   "outputs": [
    {
     "data": {
      "text/plain": [
       "p  name    \n",
       "1  PlayerV1    53\n",
       "   PlayerV4    49\n",
       "   PlayerV2    43\n",
       "   PlayerV3    29\n",
       "2  PlayerV1    78\n",
       "   PlayerV2    50\n",
       "   PlayerV3    50\n",
       "   PlayerV4    50\n",
       "Name: name, dtype: int64"
      ]
     },
     "execution_count": 96,
     "metadata": {},
     "output_type": "execute_result"
    }
   ],
   "source": [
    "df.groupby('p')['name'].value_counts()"
   ]
  },
  {
   "cell_type": "code",
   "execution_count": 78,
   "id": "e79b3375-c037-41f2-9153-3cd5c3b10955",
   "metadata": {},
   "outputs": [
    {
     "data": {
      "text/plain": [
       "p  server\n",
       "1  1.0        86\n",
       "   2.0        74\n",
       "2  1.0       114\n",
       "   2.0        86\n",
       "Name: server, dtype: int64"
      ]
     },
     "execution_count": 78,
     "metadata": {},
     "output_type": "execute_result"
    }
   ],
   "source": [
    "df.groupby('p')['server'].value_counts()"
   ]
  },
  {
   "cell_type": "markdown",
   "id": "c32db984-1316-494c-9693-03ca5f4fdca5",
   "metadata": {},
   "source": [
    "## Player Implementation Versions"
   ]
  },
  {
   "cell_type": "code",
   "execution_count": 74,
   "id": "35518912-73cf-48c0-a1eb-1da7b48ccc9c",
   "metadata": {},
   "outputs": [
    {
     "data": {
      "text/plain": [
       "name      p\n",
       "PlayerV1  2    78\n",
       "          1    53\n",
       "PlayerV2  2    50\n",
       "          1    43\n",
       "PlayerV3  2    50\n",
       "          1    29\n",
       "PlayerV4  2    50\n",
       "          1    49\n",
       "Name: p, dtype: int64"
      ]
     },
     "execution_count": 74,
     "metadata": {},
     "output_type": "execute_result"
    }
   ],
   "source": [
    "df.groupby('name')['p'].value_counts()"
   ]
  },
  {
   "cell_type": "code",
   "execution_count": 68,
   "id": "cbae8855-8590-45ca-ba07-1351d7d11183",
   "metadata": {
    "collapsed": true,
    "jupyter": {
     "outputs_hidden": true,
     "source_hidden": true
    },
    "tags": []
   },
   "outputs": [
    {
     "name": "stdout",
     "output_type": "stream",
     "text": [
      "78\n"
     ]
    }
   ],
   "source": [
    "# cross check\n",
    "data_extract = [x for x in raw_data if x['event'] == 'point' and x['name'] == 'PlayerV1' and x['p'] == 2]\n",
    "print(len(data_extract))"
   ]
  },
  {
   "cell_type": "code",
   "execution_count": 79,
   "id": "dccc695c-c2c5-47d4-ad5b-2f0a80526c56",
   "metadata": {},
   "outputs": [
    {
     "data": {
      "text/plain": [
       "name      server\n",
       "PlayerV1  1.0       50\n",
       "          2.0       39\n",
       "PlayerV2  1.0       50\n",
       "          2.0       43\n",
       "PlayerV3  1.0       50\n",
       "          2.0       29\n",
       "PlayerV4  1.0       50\n",
       "          2.0       49\n",
       "Name: server, dtype: int64"
      ]
     },
     "execution_count": 79,
     "metadata": {},
     "output_type": "execute_result"
    }
   ],
   "source": [
    "df.groupby('name')['server'].value_counts()"
   ]
  },
  {
   "cell_type": "markdown",
   "id": "ab9768e7-32fb-4a8b-a140-cf34dafceb8e",
   "metadata": {},
   "source": [
    "## Server\n"
   ]
  },
  {
   "cell_type": "code",
   "execution_count": 71,
   "id": "112c5a42-59c7-4f71-89df-ec0656503777",
   "metadata": {},
   "outputs": [
    {
     "data": {
      "text/plain": [
       "server  p\n",
       "1.0     2    114\n",
       "        1     86\n",
       "2.0     2     86\n",
       "        1     74\n",
       "Name: p, dtype: int64"
      ]
     },
     "execution_count": 71,
     "metadata": {},
     "output_type": "execute_result"
    }
   ],
   "source": [
    "df.groupby('server')['p'].value_counts()"
   ]
  },
  {
   "cell_type": "code",
   "execution_count": 81,
   "id": "4db2d34b-ea04-4855-aba9-b0827c36540a",
   "metadata": {},
   "outputs": [
    {
     "data": {
      "text/plain": [
       "server  name    \n",
       "1.0     PlayerV1    50\n",
       "        PlayerV2    50\n",
       "        PlayerV3    50\n",
       "        PlayerV4    50\n",
       "2.0     PlayerV4    49\n",
       "        PlayerV2    43\n",
       "        PlayerV1    39\n",
       "        PlayerV3    29\n",
       "Name: name, dtype: int64"
      ]
     },
     "execution_count": 81,
     "metadata": {},
     "output_type": "execute_result"
    }
   ],
   "source": [
    "df.groupby('server')['name'].value_counts()"
   ]
  },
  {
   "cell_type": "code",
   "execution_count": 90,
   "id": "19dad020-0915-4b54-acba-acda70c79065",
   "metadata": {
    "tags": []
   },
   "outputs": [
    {
     "data": {
      "text/plain": [
       "server  name    \n",
       "1       PlayerV4    32\n",
       "        PlayerV1    21\n",
       "        PlayerV2    20\n",
       "        PlayerV3    13\n",
       "2       PlayerV4    32\n",
       "        PlayerV1    21\n",
       "        PlayerV2    20\n",
       "        PlayerV3    13\n",
       "Name: name, dtype: int64"
      ]
     },
     "execution_count": 90,
     "metadata": {},
     "output_type": "execute_result"
    }
   ],
   "source": [
    "# when server wins the point\n",
    "data_extract = [x for x in raw_data if x['event'] == 'point' and 'server' in x and x['p'] == x['server']]\n",
    "xdf = pd.json_normalize(data_extract)\n",
    "xdf.groupby('server')['name'].value_counts()"
   ]
  },
  {
   "cell_type": "markdown",
   "id": "efc6e96f-f449-4b53-b27f-2356d77ef16b",
   "metadata": {},
   "source": [
    "# Miss Events\n"
   ]
  },
  {
   "cell_type": "code",
   "execution_count": 97,
   "id": "4cc9ec03-9e67-4419-8780-46142055de5d",
   "metadata": {},
   "outputs": [
    {
     "name": "stdout",
     "output_type": "stream",
     "text": [
      "Extracted 99 rows from 505 total\n"
     ]
    }
   ],
   "source": [
    "sample_data = [x for x in raw_data if x['event'] == 'missed']\n",
    "print(f\"Extracted {len(sample_data)} rows from {len(raw_data)} total\")"
   ]
  },
  {
   "cell_type": "code",
   "execution_count": 98,
   "id": "f73f50ca-91a0-4524-a54e-d84721cf6480",
   "metadata": {},
   "outputs": [
    {
     "data": {
      "text/html": [
       "<div>\n",
       "<style scoped>\n",
       "    .dataframe tbody tr th:only-of-type {\n",
       "        vertical-align: middle;\n",
       "    }\n",
       "\n",
       "    .dataframe tbody tr th {\n",
       "        vertical-align: top;\n",
       "    }\n",
       "\n",
       "    .dataframe thead th {\n",
       "        text-align: right;\n",
       "    }\n",
       "</style>\n",
       "<table border=\"1\" class=\"dataframe\">\n",
       "  <thead>\n",
       "    <tr style=\"text-align: right;\">\n",
       "      <th></th>\n",
       "      <th>event</th>\n",
       "      <th>name</th>\n",
       "      <th>p</th>\n",
       "      <th>ytarget</th>\n",
       "      <th>ball.pos</th>\n",
       "      <th>ball.mov</th>\n",
       "      <th>ball.m</th>\n",
       "      <th>paddle.pos</th>\n",
       "      <th>paddle.dy</th>\n",
       "    </tr>\n",
       "  </thead>\n",
       "  <tbody>\n",
       "    <tr>\n",
       "      <th>0</th>\n",
       "      <td>missed</td>\n",
       "      <td>PlayerV4</td>\n",
       "      <td>2</td>\n",
       "      <td>218</td>\n",
       "      <td>[441, 220]</td>\n",
       "      <td>[984, 147]</td>\n",
       "      <td>0.15</td>\n",
       "      <td>[182, 202]</td>\n",
       "      <td>288</td>\n",
       "    </tr>\n",
       "    <tr>\n",
       "      <th>1</th>\n",
       "      <td>missed</td>\n",
       "      <td>PlayerV4</td>\n",
       "      <td>1</td>\n",
       "      <td>216</td>\n",
       "      <td>[-10, 219]</td>\n",
       "      <td>[-1246, 186]</td>\n",
       "      <td>-0.15</td>\n",
       "      <td>[158, 178]</td>\n",
       "      <td>288</td>\n",
       "    </tr>\n",
       "    <tr>\n",
       "      <th>2</th>\n",
       "      <td>missed</td>\n",
       "      <td>PlayerV4</td>\n",
       "      <td>1</td>\n",
       "      <td>24</td>\n",
       "      <td>[-23, 19]</td>\n",
       "      <td>[-1386, -208]</td>\n",
       "      <td>0.15</td>\n",
       "      <td>[67, 87]</td>\n",
       "      <td>-288</td>\n",
       "    </tr>\n",
       "    <tr>\n",
       "      <th>3</th>\n",
       "      <td>missed</td>\n",
       "      <td>PlayerV4</td>\n",
       "      <td>2</td>\n",
       "      <td>48</td>\n",
       "      <td>[447, 48]</td>\n",
       "      <td>[1296, -38]</td>\n",
       "      <td>-0.03</td>\n",
       "      <td>[50, 70]</td>\n",
       "      <td>-288</td>\n",
       "    </tr>\n",
       "    <tr>\n",
       "      <th>4</th>\n",
       "      <td>missed</td>\n",
       "      <td>PlayerV4</td>\n",
       "      <td>1</td>\n",
       "      <td>216</td>\n",
       "      <td>[-5, 219]</td>\n",
       "      <td>[-1156, 173]</td>\n",
       "      <td>-0.15</td>\n",
       "      <td>[163, 183]</td>\n",
       "      <td>288</td>\n",
       "    </tr>\n",
       "    <tr>\n",
       "      <th>...</th>\n",
       "      <td>...</td>\n",
       "      <td>...</td>\n",
       "      <td>...</td>\n",
       "      <td>...</td>\n",
       "      <td>...</td>\n",
       "      <td>...</td>\n",
       "      <td>...</td>\n",
       "      <td>...</td>\n",
       "      <td>...</td>\n",
       "    </tr>\n",
       "    <tr>\n",
       "      <th>94</th>\n",
       "      <td>missed</td>\n",
       "      <td>PlayerV4</td>\n",
       "      <td>1</td>\n",
       "      <td>5</td>\n",
       "      <td>[0, 3]</td>\n",
       "      <td>[-1102, -165]</td>\n",
       "      <td>0.15</td>\n",
       "      <td>[13, 33]</td>\n",
       "      <td>-288</td>\n",
       "    </tr>\n",
       "    <tr>\n",
       "      <th>95</th>\n",
       "      <td>missed</td>\n",
       "      <td>PlayerV4</td>\n",
       "      <td>1</td>\n",
       "      <td>181</td>\n",
       "      <td>[0, 183]</td>\n",
       "      <td>[-1180, 177]</td>\n",
       "      <td>-0.15</td>\n",
       "      <td>[161, 181]</td>\n",
       "      <td>288</td>\n",
       "    </tr>\n",
       "    <tr>\n",
       "      <th>96</th>\n",
       "      <td>missed</td>\n",
       "      <td>PlayerV4</td>\n",
       "      <td>1</td>\n",
       "      <td>238</td>\n",
       "      <td>[-1, 237]</td>\n",
       "      <td>[-1025, -153]</td>\n",
       "      <td>0.15</td>\n",
       "      <td>[216, 236]</td>\n",
       "      <td>288</td>\n",
       "    </tr>\n",
       "    <tr>\n",
       "      <th>97</th>\n",
       "      <td>missed</td>\n",
       "      <td>PlayerV4</td>\n",
       "      <td>2</td>\n",
       "      <td>200</td>\n",
       "      <td>[434, 202]</td>\n",
       "      <td>[1296, 194]</td>\n",
       "      <td>0.15</td>\n",
       "      <td>[153, 173]</td>\n",
       "      <td>288</td>\n",
       "    </tr>\n",
       "    <tr>\n",
       "      <th>98</th>\n",
       "      <td>missed</td>\n",
       "      <td>PlayerV4</td>\n",
       "      <td>1</td>\n",
       "      <td>27</td>\n",
       "      <td>[0, 26]</td>\n",
       "      <td>[-1233, -184]</td>\n",
       "      <td>0.15</td>\n",
       "      <td>[70, 90]</td>\n",
       "      <td>-288</td>\n",
       "    </tr>\n",
       "  </tbody>\n",
       "</table>\n",
       "<p>99 rows × 9 columns</p>\n",
       "</div>"
      ],
      "text/plain": [
       "     event      name  p  ytarget    ball.pos       ball.mov  ball.m  \\\n",
       "0   missed  PlayerV4  2      218  [441, 220]     [984, 147]    0.15   \n",
       "1   missed  PlayerV4  1      216  [-10, 219]   [-1246, 186]   -0.15   \n",
       "2   missed  PlayerV4  1       24   [-23, 19]  [-1386, -208]    0.15   \n",
       "3   missed  PlayerV4  2       48   [447, 48]    [1296, -38]   -0.03   \n",
       "4   missed  PlayerV4  1      216   [-5, 219]   [-1156, 173]   -0.15   \n",
       "..     ...       ... ..      ...         ...            ...     ...   \n",
       "94  missed  PlayerV4  1        5      [0, 3]  [-1102, -165]    0.15   \n",
       "95  missed  PlayerV4  1      181    [0, 183]   [-1180, 177]   -0.15   \n",
       "96  missed  PlayerV4  1      238   [-1, 237]  [-1025, -153]    0.15   \n",
       "97  missed  PlayerV4  2      200  [434, 202]    [1296, 194]    0.15   \n",
       "98  missed  PlayerV4  1       27     [0, 26]  [-1233, -184]    0.15   \n",
       "\n",
       "    paddle.pos  paddle.dy  \n",
       "0   [182, 202]        288  \n",
       "1   [158, 178]        288  \n",
       "2     [67, 87]       -288  \n",
       "3     [50, 70]       -288  \n",
       "4   [163, 183]        288  \n",
       "..         ...        ...  \n",
       "94    [13, 33]       -288  \n",
       "95  [161, 181]        288  \n",
       "96  [216, 236]        288  \n",
       "97  [153, 173]        288  \n",
       "98    [70, 90]       -288  \n",
       "\n",
       "[99 rows x 9 columns]"
      ]
     },
     "execution_count": 98,
     "metadata": {},
     "output_type": "execute_result"
    }
   ],
   "source": [
    "df = pd.json_normalize(sample_data)\n",
    "df"
   ]
  },
  {
   "cell_type": "markdown",
   "id": "f70289c2-697c-477b-a416-b39594a72d8a",
   "metadata": {},
   "source": [
    "## Slope of the ball's line\n"
   ]
  },
  {
   "cell_type": "code",
   "execution_count": 103,
   "id": "9c26a8d3-008d-4f75-b74c-a23c8146aa1d",
   "metadata": {},
   "outputs": [
    {
     "data": {
      "text/plain": [
       "ball.m\n",
       "-0.40     5\n",
       "-0.15    51\n",
       "-0.03     3\n",
       " 0.15    35\n",
       " 0.40     4\n",
       " 1.00     1\n",
       "Name: p, dtype: int64"
      ]
     },
     "execution_count": 103,
     "metadata": {},
     "output_type": "execute_result"
    }
   ],
   "source": [
    "df.groupby('ball.m')['p'].count()"
   ]
  },
  {
   "cell_type": "markdown",
   "id": "2d71bf3d-0919-47fd-b734-18845b1b1d06",
   "metadata": {},
   "source": [
    "## Player Implementation that missed\n"
   ]
  },
  {
   "cell_type": "code",
   "execution_count": 104,
   "id": "7a322677-5749-473e-a37f-9d37507b2459",
   "metadata": {},
   "outputs": [
    {
     "data": {
      "text/plain": [
       "name\n",
       "PlayerV4    99\n",
       "Name: p, dtype: int64"
      ]
     },
     "execution_count": 104,
     "metadata": {},
     "output_type": "execute_result"
    }
   ],
   "source": [
    "df.groupby('name')['p'].count()"
   ]
  },
  {
   "cell_type": "markdown",
   "id": "cecd0948-8b22-4352-b42f-a71cc5005f82",
   "metadata": {
    "tags": []
   },
   "source": [
    "---\n",
    "# References\n",
    "\n",
    "[How to convert JSON into a Pandas DataFrame](https://towardsdatascience.com/how-to-convert-json-into-a-pandas-dataframe-100b2ae1e0d8), Towards Data Science, accessed 11 August 2021\n",
    "\n",
    "[Pandas tips and tricks: Group by and value_counts](https://towardsdatascience.com/pandas-tips-and-tricks-33bcc8a40bb9), Towards Data Science, accessed 11 August 2021"
   ]
  }
 ],
 "metadata": {
  "kernelspec": {
   "display_name": "Python 3",
   "language": "python",
   "name": "python3"
  },
  "language_info": {
   "codemirror_mode": {
    "name": "ipython",
    "version": 3
   },
   "file_extension": ".py",
   "mimetype": "text/x-python",
   "name": "python",
   "nbconvert_exporter": "python",
   "pygments_lexer": "ipython3",
   "version": "3.8.8"
  }
 },
 "nbformat": 4,
 "nbformat_minor": 5
}
