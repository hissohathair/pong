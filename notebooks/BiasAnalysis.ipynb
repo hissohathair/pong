{
 "cells": [
  {
   "cell_type": "code",
   "execution_count": 4,
   "id": "c2b55520-2eb0-4f90-852b-bc0f3d650655",
   "metadata": {},
   "outputs": [],
   "source": [
    "import pandas as pd\n",
    "import json"
   ]
  },
  {
   "cell_type": "code",
   "execution_count": 105,
   "id": "92dda522-0197-4e5e-8dfe-7608581be03b",
   "metadata": {},
   "outputs": [],
   "source": [
    "TEST_DATA = '../test/test_data3.json'\n",
    "with open(TEST_DATA,'r') as f:\n",
    "    raw_data = json.loads(f.read())"
   ]
  },
  {
   "cell_type": "markdown",
   "id": "687bddde-e371-4db4-aa78-0a94e2774ba8",
   "metadata": {},
   "source": [
    "# Points"
   ]
  },
  {
   "cell_type": "code",
   "execution_count": 106,
   "id": "83986738-ea32-4851-a990-219326d738b1",
   "metadata": {},
   "outputs": [
    {
     "name": "stdout",
     "output_type": "stream",
     "text": [
      "Extracted 1253 rows from 2522 total\n"
     ]
    }
   ],
   "source": [
    "sample_data = [x for x in raw_data if x['event'] == 'point']\n",
    "print(f\"Extracted {len(sample_data)} rows from {len(raw_data)} total\")"
   ]
  },
  {
   "cell_type": "code",
   "execution_count": 107,
   "id": "f39f97fd-6737-4cb8-87e4-ea27d468408d",
   "metadata": {
    "tags": []
   },
   "outputs": [
    {
     "data": {
      "text/html": [
       "<div>\n",
       "<style scoped>\n",
       "    .dataframe tbody tr th:only-of-type {\n",
       "        vertical-align: middle;\n",
       "    }\n",
       "\n",
       "    .dataframe tbody tr th {\n",
       "        vertical-align: top;\n",
       "    }\n",
       "\n",
       "    .dataframe thead th {\n",
       "        text-align: right;\n",
       "    }\n",
       "</style>\n",
       "<table border=\"1\" class=\"dataframe\">\n",
       "  <thead>\n",
       "    <tr style=\"text-align: right;\">\n",
       "      <th></th>\n",
       "      <th>event</th>\n",
       "      <th>p</th>\n",
       "      <th>name</th>\n",
       "      <th>against</th>\n",
       "      <th>server</th>\n",
       "      <th>volley_time</th>\n",
       "    </tr>\n",
       "  </thead>\n",
       "  <tbody>\n",
       "    <tr>\n",
       "      <th>0</th>\n",
       "      <td>point</td>\n",
       "      <td>1</td>\n",
       "      <td>PlayerV1</td>\n",
       "      <td>PlayerV1</td>\n",
       "      <td>1</td>\n",
       "      <td>NaN</td>\n",
       "    </tr>\n",
       "    <tr>\n",
       "      <th>1</th>\n",
       "      <td>point</td>\n",
       "      <td>2</td>\n",
       "      <td>PlayerV1</td>\n",
       "      <td>PlayerV1</td>\n",
       "      <td>2</td>\n",
       "      <td>30.28</td>\n",
       "    </tr>\n",
       "    <tr>\n",
       "      <th>2</th>\n",
       "      <td>point</td>\n",
       "      <td>1</td>\n",
       "      <td>PlayerV1</td>\n",
       "      <td>PlayerV1</td>\n",
       "      <td>1</td>\n",
       "      <td>NaN</td>\n",
       "    </tr>\n",
       "    <tr>\n",
       "      <th>3</th>\n",
       "      <td>point</td>\n",
       "      <td>2</td>\n",
       "      <td>PlayerV1</td>\n",
       "      <td>PlayerV1</td>\n",
       "      <td>2</td>\n",
       "      <td>34.63</td>\n",
       "    </tr>\n",
       "    <tr>\n",
       "      <th>4</th>\n",
       "      <td>point</td>\n",
       "      <td>1</td>\n",
       "      <td>PlayerV1</td>\n",
       "      <td>PlayerV1</td>\n",
       "      <td>1</td>\n",
       "      <td>NaN</td>\n",
       "    </tr>\n",
       "    <tr>\n",
       "      <th>...</th>\n",
       "      <td>...</td>\n",
       "      <td>...</td>\n",
       "      <td>...</td>\n",
       "      <td>...</td>\n",
       "      <td>...</td>\n",
       "      <td>...</td>\n",
       "    </tr>\n",
       "    <tr>\n",
       "      <th>1248</th>\n",
       "      <td>point</td>\n",
       "      <td>1</td>\n",
       "      <td>PlayerV4</td>\n",
       "      <td>PlayerV4</td>\n",
       "      <td>1</td>\n",
       "      <td>NaN</td>\n",
       "    </tr>\n",
       "    <tr>\n",
       "      <th>1249</th>\n",
       "      <td>point</td>\n",
       "      <td>1</td>\n",
       "      <td>PlayerV4</td>\n",
       "      <td>PlayerV4</td>\n",
       "      <td>2</td>\n",
       "      <td>NaN</td>\n",
       "    </tr>\n",
       "    <tr>\n",
       "      <th>1250</th>\n",
       "      <td>point</td>\n",
       "      <td>1</td>\n",
       "      <td>PlayerV4</td>\n",
       "      <td>PlayerV4</td>\n",
       "      <td>2</td>\n",
       "      <td>NaN</td>\n",
       "    </tr>\n",
       "    <tr>\n",
       "      <th>1251</th>\n",
       "      <td>point</td>\n",
       "      <td>1</td>\n",
       "      <td>PlayerV4</td>\n",
       "      <td>PlayerV4</td>\n",
       "      <td>2</td>\n",
       "      <td>NaN</td>\n",
       "    </tr>\n",
       "    <tr>\n",
       "      <th>1252</th>\n",
       "      <td>point</td>\n",
       "      <td>2</td>\n",
       "      <td>PlayerV4</td>\n",
       "      <td>PlayerV4</td>\n",
       "      <td>2</td>\n",
       "      <td>42.12</td>\n",
       "    </tr>\n",
       "  </tbody>\n",
       "</table>\n",
       "<p>1253 rows × 6 columns</p>\n",
       "</div>"
      ],
      "text/plain": [
       "      event  p      name   against  server  volley_time\n",
       "0     point  1  PlayerV1  PlayerV1       1          NaN\n",
       "1     point  2  PlayerV1  PlayerV1       2        30.28\n",
       "2     point  1  PlayerV1  PlayerV1       1          NaN\n",
       "3     point  2  PlayerV1  PlayerV1       2        34.63\n",
       "4     point  1  PlayerV1  PlayerV1       1          NaN\n",
       "...     ... ..       ...       ...     ...          ...\n",
       "1248  point  1  PlayerV4  PlayerV4       1          NaN\n",
       "1249  point  1  PlayerV4  PlayerV4       2          NaN\n",
       "1250  point  1  PlayerV4  PlayerV4       2          NaN\n",
       "1251  point  1  PlayerV4  PlayerV4       2          NaN\n",
       "1252  point  2  PlayerV4  PlayerV4       2        42.12\n",
       "\n",
       "[1253 rows x 6 columns]"
      ]
     },
     "execution_count": 107,
     "metadata": {},
     "output_type": "execute_result"
    }
   ],
   "source": [
    "df = pd.json_normalize(sample_data)\n",
    "df"
   ]
  },
  {
   "cell_type": "markdown",
   "id": "54d20ebe-39d9-4333-bb47-883a59bea041",
   "metadata": {},
   "source": [
    "## Player 1 vs Player 2 Points"
   ]
  },
  {
   "cell_type": "code",
   "execution_count": 108,
   "id": "71ca461b-7dcb-4d12-bd4e-a63c7d81d3d7",
   "metadata": {},
   "outputs": [
    {
     "data": {
      "text/plain": [
       "p  p\n",
       "1  1    587\n",
       "2  2    666\n",
       "Name: p, dtype: int64"
      ]
     },
     "execution_count": 108,
     "metadata": {},
     "output_type": "execute_result"
    }
   ],
   "source": [
    "df.groupby('p')['p'].value_counts()"
   ]
  },
  {
   "cell_type": "code",
   "execution_count": 109,
   "id": "18239d0c-5c86-444b-8fc7-f322f813d43b",
   "metadata": {},
   "outputs": [
    {
     "data": {
      "text/plain": [
       "p  name    \n",
       "1  PlayerV3    172\n",
       "   PlayerV4    157\n",
       "   PlayerV2    136\n",
       "   PlayerV1    122\n",
       "2  PlayerV3    200\n",
       "   PlayerV4    185\n",
       "   PlayerV2    142\n",
       "   PlayerV1    139\n",
       "Name: name, dtype: int64"
      ]
     },
     "execution_count": 109,
     "metadata": {},
     "output_type": "execute_result"
    }
   ],
   "source": [
    "df.groupby('p')['name'].value_counts()"
   ]
  },
  {
   "cell_type": "code",
   "execution_count": 110,
   "id": "e79b3375-c037-41f2-9153-3cd5c3b10955",
   "metadata": {},
   "outputs": [
    {
     "data": {
      "text/plain": [
       "p  server\n",
       "1  1         298\n",
       "   2         289\n",
       "2  1         376\n",
       "   2         290\n",
       "Name: server, dtype: int64"
      ]
     },
     "execution_count": 110,
     "metadata": {},
     "output_type": "execute_result"
    }
   ],
   "source": [
    "df.groupby('p')['server'].value_counts()"
   ]
  },
  {
   "cell_type": "markdown",
   "id": "c32db984-1316-494c-9693-03ca5f4fdca5",
   "metadata": {},
   "source": [
    "## Player Implementation Versions"
   ]
  },
  {
   "cell_type": "code",
   "execution_count": 111,
   "id": "35518912-73cf-48c0-a1eb-1da7b48ccc9c",
   "metadata": {},
   "outputs": [
    {
     "data": {
      "text/plain": [
       "name      p\n",
       "PlayerV1  2    139\n",
       "          1    122\n",
       "PlayerV2  2    142\n",
       "          1    136\n",
       "PlayerV3  2    200\n",
       "          1    172\n",
       "PlayerV4  2    185\n",
       "          1    157\n",
       "Name: p, dtype: int64"
      ]
     },
     "execution_count": 111,
     "metadata": {},
     "output_type": "execute_result"
    }
   ],
   "source": [
    "df.groupby('name')['p'].value_counts()"
   ]
  },
  {
   "cell_type": "code",
   "execution_count": 112,
   "id": "cbae8855-8590-45ca-ba07-1351d7d11183",
   "metadata": {
    "jupyter": {
     "source_hidden": true
    },
    "tags": []
   },
   "outputs": [
    {
     "name": "stdout",
     "output_type": "stream",
     "text": [
      "139\n"
     ]
    }
   ],
   "source": [
    "# cross check\n",
    "data_extract = [x for x in raw_data if x['event'] == 'point' and x['name'] == 'PlayerV1' and x['p'] == 2]\n",
    "print(len(data_extract))"
   ]
  },
  {
   "cell_type": "code",
   "execution_count": 113,
   "id": "dccc695c-c2c5-47d4-ad5b-2f0a80526c56",
   "metadata": {},
   "outputs": [
    {
     "data": {
      "text/plain": [
       "name      server\n",
       "PlayerV1  1         139\n",
       "          2         122\n",
       "PlayerV2  2         144\n",
       "          1         134\n",
       "PlayerV3  1         208\n",
       "          2         164\n",
       "PlayerV4  1         193\n",
       "          2         149\n",
       "Name: server, dtype: int64"
      ]
     },
     "execution_count": 113,
     "metadata": {},
     "output_type": "execute_result"
    }
   ],
   "source": [
    "df.groupby('name')['server'].value_counts()"
   ]
  },
  {
   "cell_type": "markdown",
   "id": "ab9768e7-32fb-4a8b-a140-cf34dafceb8e",
   "metadata": {},
   "source": [
    "## Server\n"
   ]
  },
  {
   "cell_type": "code",
   "execution_count": 114,
   "id": "112c5a42-59c7-4f71-89df-ec0656503777",
   "metadata": {},
   "outputs": [
    {
     "data": {
      "text/plain": [
       "server  p\n",
       "1       2    376\n",
       "        1    298\n",
       "2       2    290\n",
       "        1    289\n",
       "Name: p, dtype: int64"
      ]
     },
     "execution_count": 114,
     "metadata": {},
     "output_type": "execute_result"
    }
   ],
   "source": [
    "df.groupby('server')['p'].value_counts()"
   ]
  },
  {
   "cell_type": "code",
   "execution_count": 115,
   "id": "4db2d34b-ea04-4855-aba9-b0827c36540a",
   "metadata": {},
   "outputs": [
    {
     "data": {
      "text/plain": [
       "server  name    \n",
       "1       PlayerV3    208\n",
       "        PlayerV4    193\n",
       "        PlayerV1    139\n",
       "        PlayerV2    134\n",
       "2       PlayerV3    164\n",
       "        PlayerV4    149\n",
       "        PlayerV2    144\n",
       "        PlayerV1    122\n",
       "Name: name, dtype: int64"
      ]
     },
     "execution_count": 115,
     "metadata": {},
     "output_type": "execute_result"
    }
   ],
   "source": [
    "df.groupby('server')['name'].value_counts()"
   ]
  },
  {
   "cell_type": "code",
   "execution_count": 116,
   "id": "19dad020-0915-4b54-acba-acda70c79065",
   "metadata": {
    "tags": []
   },
   "outputs": [
    {
     "data": {
      "text/plain": [
       "server  name    \n",
       "1       PlayerV1    83\n",
       "        PlayerV4    79\n",
       "        PlayerV3    69\n",
       "        PlayerV2    67\n",
       "2       PlayerV1    83\n",
       "        PlayerV2    75\n",
       "        PlayerV4    71\n",
       "        PlayerV3    61\n",
       "Name: name, dtype: int64"
      ]
     },
     "execution_count": 116,
     "metadata": {},
     "output_type": "execute_result"
    }
   ],
   "source": [
    "# when server wins the point\n",
    "data_extract = [x for x in raw_data if x['event'] == 'point' and 'server' in x and x['p'] == x['server']]\n",
    "xdf = pd.json_normalize(data_extract)\n",
    "xdf.groupby('server')['name'].value_counts()"
   ]
  },
  {
   "cell_type": "markdown",
   "id": "efc6e96f-f449-4b53-b27f-2356d77ef16b",
   "metadata": {},
   "source": [
    "# Miss Events\n"
   ]
  },
  {
   "cell_type": "code",
   "execution_count": 117,
   "id": "4cc9ec03-9e67-4419-8780-46142055de5d",
   "metadata": {},
   "outputs": [
    {
     "name": "stdout",
     "output_type": "stream",
     "text": [
      "Extracted 1253 rows from 2522 total\n"
     ]
    }
   ],
   "source": [
    "sample_data = [x for x in raw_data if x['event'] == 'missed']\n",
    "print(f\"Extracted {len(sample_data)} rows from {len(raw_data)} total\")"
   ]
  },
  {
   "cell_type": "code",
   "execution_count": 118,
   "id": "f73f50ca-91a0-4524-a54e-d84721cf6480",
   "metadata": {},
   "outputs": [
    {
     "data": {
      "text/html": [
       "<div>\n",
       "<style scoped>\n",
       "    .dataframe tbody tr th:only-of-type {\n",
       "        vertical-align: middle;\n",
       "    }\n",
       "\n",
       "    .dataframe tbody tr th {\n",
       "        vertical-align: top;\n",
       "    }\n",
       "\n",
       "    .dataframe thead th {\n",
       "        text-align: right;\n",
       "    }\n",
       "</style>\n",
       "<table border=\"1\" class=\"dataframe\">\n",
       "  <thead>\n",
       "    <tr style=\"text-align: right;\">\n",
       "      <th></th>\n",
       "      <th>event</th>\n",
       "      <th>name</th>\n",
       "      <th>p</th>\n",
       "      <th>ball.pos</th>\n",
       "      <th>ball.mov</th>\n",
       "      <th>ball.speed</th>\n",
       "      <th>ball.m</th>\n",
       "      <th>paddle.top</th>\n",
       "      <th>paddle.bot</th>\n",
       "      <th>paddle.dy</th>\n",
       "      <th>ytarget</th>\n",
       "    </tr>\n",
       "  </thead>\n",
       "  <tbody>\n",
       "    <tr>\n",
       "      <th>0</th>\n",
       "      <td>missed</td>\n",
       "      <td>PlayerV1</td>\n",
       "      <td>2</td>\n",
       "      <td>[435, 69]</td>\n",
       "      <td>[442, -442]</td>\n",
       "      <td>626.25</td>\n",
       "      <td>-1.00</td>\n",
       "      <td>105</td>\n",
       "      <td>125</td>\n",
       "      <td>-288</td>\n",
       "      <td>NaN</td>\n",
       "    </tr>\n",
       "    <tr>\n",
       "      <th>1</th>\n",
       "      <td>missed</td>\n",
       "      <td>PlayerV1</td>\n",
       "      <td>1</td>\n",
       "      <td>[-1, 178]</td>\n",
       "      <td>[-686, 686]</td>\n",
       "      <td>971.16</td>\n",
       "      <td>-1.00</td>\n",
       "      <td>117</td>\n",
       "      <td>137</td>\n",
       "      <td>288</td>\n",
       "      <td>NaN</td>\n",
       "    </tr>\n",
       "    <tr>\n",
       "      <th>2</th>\n",
       "      <td>missed</td>\n",
       "      <td>PlayerV1</td>\n",
       "      <td>2</td>\n",
       "      <td>[433, 155]</td>\n",
       "      <td>[668, -668]</td>\n",
       "      <td>946.10</td>\n",
       "      <td>-1.00</td>\n",
       "      <td>150</td>\n",
       "      <td>170</td>\n",
       "      <td>288</td>\n",
       "      <td>NaN</td>\n",
       "    </tr>\n",
       "    <tr>\n",
       "      <th>3</th>\n",
       "      <td>missed</td>\n",
       "      <td>PlayerV1</td>\n",
       "      <td>1</td>\n",
       "      <td>[-1, 209]</td>\n",
       "      <td>[-710, -710]</td>\n",
       "      <td>1004.28</td>\n",
       "      <td>1.00</td>\n",
       "      <td>136</td>\n",
       "      <td>156</td>\n",
       "      <td>288</td>\n",
       "      <td>NaN</td>\n",
       "    </tr>\n",
       "    <tr>\n",
       "      <th>4</th>\n",
       "      <td>missed</td>\n",
       "      <td>PlayerV1</td>\n",
       "      <td>2</td>\n",
       "      <td>[434, 124]</td>\n",
       "      <td>[813, 325]</td>\n",
       "      <td>875.66</td>\n",
       "      <td>0.40</td>\n",
       "      <td>95</td>\n",
       "      <td>115</td>\n",
       "      <td>288</td>\n",
       "      <td>NaN</td>\n",
       "    </tr>\n",
       "    <tr>\n",
       "      <th>...</th>\n",
       "      <td>...</td>\n",
       "      <td>...</td>\n",
       "      <td>...</td>\n",
       "      <td>...</td>\n",
       "      <td>...</td>\n",
       "      <td>...</td>\n",
       "      <td>...</td>\n",
       "      <td>...</td>\n",
       "      <td>...</td>\n",
       "      <td>...</td>\n",
       "      <td>...</td>\n",
       "    </tr>\n",
       "    <tr>\n",
       "      <th>1248</th>\n",
       "      <td>missed</td>\n",
       "      <td>PlayerV4</td>\n",
       "      <td>2</td>\n",
       "      <td>[434, 17]</td>\n",
       "      <td>[775, 310]</td>\n",
       "      <td>835.05</td>\n",
       "      <td>0.40</td>\n",
       "      <td>20</td>\n",
       "      <td>40</td>\n",
       "      <td>-288</td>\n",
       "      <td>12.0</td>\n",
       "    </tr>\n",
       "    <tr>\n",
       "      <th>1249</th>\n",
       "      <td>missed</td>\n",
       "      <td>PlayerV4</td>\n",
       "      <td>2</td>\n",
       "      <td>[447, 221]</td>\n",
       "      <td>[1296, -518]</td>\n",
       "      <td>1395.83</td>\n",
       "      <td>-0.40</td>\n",
       "      <td>155</td>\n",
       "      <td>175</td>\n",
       "      <td>288</td>\n",
       "      <td>231.0</td>\n",
       "    </tr>\n",
       "    <tr>\n",
       "      <th>1250</th>\n",
       "      <td>missed</td>\n",
       "      <td>PlayerV4</td>\n",
       "      <td>2</td>\n",
       "      <td>[446, 172]</td>\n",
       "      <td>[1296, 194]</td>\n",
       "      <td>1310.50</td>\n",
       "      <td>0.15</td>\n",
       "      <td>153</td>\n",
       "      <td>173</td>\n",
       "      <td>288</td>\n",
       "      <td>169.0</td>\n",
       "    </tr>\n",
       "    <tr>\n",
       "      <th>1251</th>\n",
       "      <td>missed</td>\n",
       "      <td>PlayerV4</td>\n",
       "      <td>2</td>\n",
       "      <td>[446, 164]</td>\n",
       "      <td>[1296, 518]</td>\n",
       "      <td>1395.83</td>\n",
       "      <td>0.40</td>\n",
       "      <td>139</td>\n",
       "      <td>159</td>\n",
       "      <td>288</td>\n",
       "      <td>154.0</td>\n",
       "    </tr>\n",
       "    <tr>\n",
       "      <th>1252</th>\n",
       "      <td>missed</td>\n",
       "      <td>PlayerV4</td>\n",
       "      <td>1</td>\n",
       "      <td>[-13, 158]</td>\n",
       "      <td>[-1386, -554]</td>\n",
       "      <td>1493.54</td>\n",
       "      <td>0.40</td>\n",
       "      <td>149</td>\n",
       "      <td>169</td>\n",
       "      <td>288</td>\n",
       "      <td>168.0</td>\n",
       "    </tr>\n",
       "  </tbody>\n",
       "</table>\n",
       "<p>1253 rows × 11 columns</p>\n",
       "</div>"
      ],
      "text/plain": [
       "       event      name  p    ball.pos       ball.mov  ball.speed  ball.m  \\\n",
       "0     missed  PlayerV1  2   [435, 69]    [442, -442]      626.25   -1.00   \n",
       "1     missed  PlayerV1  1   [-1, 178]    [-686, 686]      971.16   -1.00   \n",
       "2     missed  PlayerV1  2  [433, 155]    [668, -668]      946.10   -1.00   \n",
       "3     missed  PlayerV1  1   [-1, 209]   [-710, -710]     1004.28    1.00   \n",
       "4     missed  PlayerV1  2  [434, 124]     [813, 325]      875.66    0.40   \n",
       "...      ...       ... ..         ...            ...         ...     ...   \n",
       "1248  missed  PlayerV4  2   [434, 17]     [775, 310]      835.05    0.40   \n",
       "1249  missed  PlayerV4  2  [447, 221]   [1296, -518]     1395.83   -0.40   \n",
       "1250  missed  PlayerV4  2  [446, 172]    [1296, 194]     1310.50    0.15   \n",
       "1251  missed  PlayerV4  2  [446, 164]    [1296, 518]     1395.83    0.40   \n",
       "1252  missed  PlayerV4  1  [-13, 158]  [-1386, -554]     1493.54    0.40   \n",
       "\n",
       "      paddle.top  paddle.bot  paddle.dy  ytarget  \n",
       "0            105         125       -288      NaN  \n",
       "1            117         137        288      NaN  \n",
       "2            150         170        288      NaN  \n",
       "3            136         156        288      NaN  \n",
       "4             95         115        288      NaN  \n",
       "...          ...         ...        ...      ...  \n",
       "1248          20          40       -288     12.0  \n",
       "1249         155         175        288    231.0  \n",
       "1250         153         173        288    169.0  \n",
       "1251         139         159        288    154.0  \n",
       "1252         149         169        288    168.0  \n",
       "\n",
       "[1253 rows x 11 columns]"
      ]
     },
     "execution_count": 118,
     "metadata": {},
     "output_type": "execute_result"
    }
   ],
   "source": [
    "df = pd.json_normalize(sample_data)\n",
    "df"
   ]
  },
  {
   "cell_type": "markdown",
   "id": "f70289c2-697c-477b-a416-b39594a72d8a",
   "metadata": {},
   "source": [
    "## Slope of the ball's line\n"
   ]
  },
  {
   "cell_type": "code",
   "execution_count": 119,
   "id": "9c26a8d3-008d-4f75-b74c-a23c8146aa1d",
   "metadata": {},
   "outputs": [
    {
     "data": {
      "text/plain": [
       "ball.m\n",
       "-1.00    173\n",
       "-0.40    257\n",
       "-0.15    184\n",
       "-0.03     11\n",
       " 0.03      4\n",
       " 0.15    202\n",
       " 0.40    248\n",
       " 1.00    174\n",
       "Name: p, dtype: int64"
      ]
     },
     "execution_count": 119,
     "metadata": {},
     "output_type": "execute_result"
    }
   ],
   "source": [
    "df.groupby('ball.m')['p'].count()"
   ]
  },
  {
   "cell_type": "markdown",
   "id": "2d71bf3d-0919-47fd-b734-18845b1b1d06",
   "metadata": {},
   "source": [
    "## Player Implementation that missed\n"
   ]
  },
  {
   "cell_type": "code",
   "execution_count": 120,
   "id": "7a322677-5749-473e-a37f-9d37507b2459",
   "metadata": {},
   "outputs": [
    {
     "data": {
      "text/plain": [
       "name\n",
       "PlayerV1    397\n",
       "PlayerV2    343\n",
       "PlayerV3    204\n",
       "PlayerV4    309\n",
       "Name: p, dtype: int64"
      ]
     },
     "execution_count": 120,
     "metadata": {},
     "output_type": "execute_result"
    }
   ],
   "source": [
    "df.groupby('name')['p'].count()"
   ]
  },
  {
   "cell_type": "markdown",
   "id": "cecd0948-8b22-4352-b42f-a71cc5005f82",
   "metadata": {
    "tags": []
   },
   "source": [
    "---\n",
    "# References\n",
    "\n",
    "[How to convert JSON into a Pandas DataFrame](https://towardsdatascience.com/how-to-convert-json-into-a-pandas-dataframe-100b2ae1e0d8), Towards Data Science, accessed 11 August 2021\n",
    "\n",
    "[Pandas tips and tricks: Group by and value_counts](https://towardsdatascience.com/pandas-tips-and-tricks-33bcc8a40bb9), Towards Data Science, accessed 11 August 2021"
   ]
  }
 ],
 "metadata": {
  "kernelspec": {
   "display_name": "Python 3",
   "language": "python",
   "name": "python3"
  },
  "language_info": {
   "codemirror_mode": {
    "name": "ipython",
    "version": 3
   },
   "file_extension": ".py",
   "mimetype": "text/x-python",
   "name": "python",
   "nbconvert_exporter": "python",
   "pygments_lexer": "ipython3",
   "version": "3.8.8"
  }
 },
 "nbformat": 4,
 "nbformat_minor": 5
}
